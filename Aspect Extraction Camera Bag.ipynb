{
 "cells": [
  {
   "cell_type": "markdown",
   "metadata": {},
   "source": [
    "## Product Review Aspect Detection: Camera Bag\n",
    "\n",
    "\n",
    "### This is a Natural Language Processing based solution which can detect up to 10 aspects from online product reviews for camera bags.\n",
    "\n",
    "This sample notebook shows you how to deploy Product Review Aspect Detection: Camera using Amazon SageMaker.\n",
    "\n",
    "This solution identifies the various aspects from online product reviews for cameras bags. The following 7 aspects are identified: purchase, aesthetics, size, ergonomics, versatility, safety and durability  . This enables companies to easily identify which aspects are being reviewed. This information can be used to assess changes in consumer priorities and focus on trending aspects related to cameras. Companies can use this solution for providing inputs to advertising and marketing campaigns and product design.\n",
    "\n",
    "> **Note**: This is a reference notebook and it cannot run unless you make changes suggested in the notebook.\n",
    "\n",
    "#### Pre-requisites:\n",
    "1. **Note**: This notebook contains elements which render correctly in Jupyter interface. Open this notebook from an Amazon SageMaker Notebook Instance or Amazon SageMaker Studio.\n",
    "1. Ensure that IAM role used has **AmazonSageMakerFullAccess**\n",
    "1. To deploy this ML model successfully, ensure that:\n",
    "    1. Either your IAM role has these three permissions and you have authority to make AWS Marketplace subscriptions in the AWS account used: \n",
    "        1. **aws-marketplace:ViewSubscriptions**\n",
    "        1. **aws-marketplace:Unsubscribe**\n",
    "        1. **aws-marketplace:Subscribe**  \n",
    "    2. or your AWS account has a subscription to Product Review Aspect Detection: Camera. If so, skip step: [Subscribe to the model package](#1.-Subscribe-to-the-model-package)\n",
    "\n",
    "#### Contents:\n",
    "1. [Subscribe to the model package](#1.-Subscribe-to-the-model-package)\n",
    "2. [Create an endpoint and perform real-time inference](#2.-Create-an-endpoint-and-perform-real-time-inference)\n",
    "   1. [Create an endpoint](#A.-Create-an-endpoint)\n",
    "   2. [Create input payload](#B.-Create-input-payload)\n",
    "   3. [Perform real-time inference](#C.-Perform-real-time-inference)\n",
    "   4. [Visualize output](#D.-Visualize-output)\n",
    "   5. [Delete the endpoint](#E.-Delete-the-endpoint)\n",
    "3. [Perform batch inference](#3.-Perform-batch-inference) \n",
    "4. [Clean-up](#4.-Clean-up)\n",
    "    1. [Delete the model](#A.-Delete-the-model)\n",
    "    2. [Unsubscribe to the listing (optional)](#B.-Unsubscribe-to-the-listing-(optional))\n",
    "    \n",
    "\n",
    "#### Usage instructions\n",
    "You can run this notebook one cell at a time (By using Shift+Enter for running a cell)."
   ]
  },
  {
   "cell_type": "markdown",
   "metadata": {},
   "source": [
    "### 1. Subscribe to the model package"
   ]
  },
  {
   "cell_type": "markdown",
   "metadata": {},
   "source": [
    "To subscribe to the model package:\n",
    "1. Open the model package listing page Product Review Aspect Detection: Camera \n",
    "1. On the AWS Marketplace listing, click on the **Continue to subscribe** button.\n",
    "1. On the **Subscribe to this software** page, review and click on **\"Accept Offer\"** if you and your organization agrees with EULA, pricing, and support terms. \n",
    "1. Once you click on **Continue to configuration button** and then choose a **region**, you will see a **Product Arn** displayed. This is the model package ARN that you need to specify while creating a deployable model using Boto3. Copy the ARN corresponding to your region and specify the same in the following cell."
   ]
  },
  {
   "cell_type": "code",
   "execution_count": 19,
   "metadata": {},
   "outputs": [],
   "source": [
    "model_package_arn='arn:aws:sagemaker:us-east-2:XXXXXXXXXXXX:model-package/camera-bag-aspects'"
   ]
  },
  {
   "cell_type": "markdown",
   "metadata": {},
   "source": [
    "### 2. Prepare dataset"
   ]
  },
  {
   "cell_type": "code",
   "execution_count": 2,
   "metadata": {},
   "outputs": [],
   "source": [
    "import base64\n",
    "import json \n",
    "import uuid\n",
    "from sagemaker import ModelPackage\n",
    "import sagemaker as sage\n",
    "from sagemaker import get_execution_role\n",
    "from sagemaker import ModelPackage\n",
    "from urllib.parse import urlparse\n",
    "import boto3\n",
    "from IPython.display import Image\n",
    "from PIL import Image as ImageEdit\n",
    "import urllib.request\n",
    "import numpy as np"
   ]
  },
  {
   "cell_type": "code",
   "execution_count": null,
   "metadata": {},
   "outputs": [],
   "source": [
    "role = get_execution_role()\n",
    "\n",
    "sagemaker_session = sage.Session()\n",
    "\n",
    "bucket=sagemaker_session.default_bucket()\n",
    "bucket"
   ]
  },
  {
   "cell_type": "markdown",
   "metadata": {},
   "source": [
    "### 2. Create an endpoint and perform real-time inference"
   ]
  },
  {
   "cell_type": "markdown",
   "metadata": {},
   "source": [
    "If you want to understand how real-time inference with Amazon SageMaker works, see [Documentation](https://docs.aws.amazon.com/sagemaker/latest/dg/how-it-works-hosting.html)."
   ]
  },
  {
   "cell_type": "code",
   "execution_count": 5,
   "metadata": {},
   "outputs": [],
   "source": [
    "model_name='camera-bag-aspect-extraction'\n",
    "\n",
    "content_type='text/plain'\n",
    "\n",
    "real_time_inference_instance_type='ml.m5.large'\n",
    "batch_transform_inference_instance_type='ml.m5.large'"
   ]
  },
  {
   "cell_type": "markdown",
   "metadata": {},
   "source": [
    "#### A. Create an endpoint"
   ]
  },
  {
   "cell_type": "code",
   "execution_count": 11,
   "metadata": {},
   "outputs": [
    {
     "name": "stdout",
     "output_type": "stream",
     "text": [
      "----!"
     ]
    }
   ],
   "source": [
    "\n",
    "def predict_wrapper(endpoint, session):\n",
    "    return sage.predictor.Predictor(endpoint, session,content_type)\n",
    "\n",
    "#create a deployable model from the model package.\n",
    "model = ModelPackage(role=role,\n",
    "                    model_package_arn=model_package_arn,\n",
    "                    sagemaker_session=sagemaker_session,\n",
    "                    predictor_cls=predict_wrapper)\n",
    "\n",
    "#Deploy the model\n",
    "predictor = model.deploy(1, real_time_inference_instance_type, endpoint_name=model_name)"
   ]
  },
  {
   "cell_type": "markdown",
   "metadata": {},
   "source": [
    "Once endpoint has been created, you would be able to perform real-time inference."
   ]
  },
  {
   "cell_type": "markdown",
   "metadata": {},
   "source": [
    "#### B. Create input payload"
   ]
  },
  {
   "cell_type": "code",
   "execution_count": 12,
   "metadata": {},
   "outputs": [],
   "source": [
    "# Provide the text file name with its location\n",
    "file_name = '/input.txt'"
   ]
  },
  {
   "cell_type": "markdown",
   "metadata": {},
   "source": [
    "<Add code snippet that shows the payload contents>"
   ]
  },
  {
   "cell_type": "markdown",
   "metadata": {},
   "source": [
    "#### C. Perform real-time inference"
   ]
  },
  {
   "cell_type": "code",
   "execution_count": 13,
   "metadata": {},
   "outputs": [
    {
     "name": "stdout",
     "output_type": "stream",
     "text": [
      "{\r\n",
      "    \"ContentType\": \"application/json\",\r\n",
      "    \"InvokedProductionVariant\": \"AllTraffic\"\r\n",
      "}\r\n"
     ]
    }
   ],
   "source": [
    "!aws sagemaker-runtime invoke-endpoint \\\n",
    "    --endpoint-name $model_name \\\n",
    "    --body fileb://$file_name \\\n",
    "    --content-type $content_type \\\n",
    "    --region $sagemaker_session.boto_region_name \\\n",
    "    output.txt"
   ]
  },
  {
   "cell_type": "markdown",
   "metadata": {},
   "source": [
    "#### D. Visualize output"
   ]
  },
  {
   "cell_type": "code",
   "execution_count": 14,
   "metadata": {},
   "outputs": [
    {
     "name": "stdout",
     "output_type": "stream",
     "text": [
      "{\n",
      " \"review\": \"I have had and used (borderline abused!) my canon camera bag for about 10 years and can't recommend it enough. It is has taken a beating but still looks great and has held up really well. The bag is sturdy and protective. It has perfect amount of space for my Canon 60D, with enough room to cary an additional small micro-lens. (When I had a smaller DLSR, the bag perfectly held the camera body and 2 larger lenses). I recently repurchased this camera bag for my father.\",\n",
      " \"topics\": [\n",
      "  {\n",
      "   \"aspect\": {\n",
      "    \"versatality\": 0.4850679692606684\n",
      "   },\n",
      "   \"sentence\": \"borderline abuse\"\n",
      "  },\n",
      "  {\n",
      "   \"aspect\": {\n",
      "    \"size\": 0.3065129392699415\n",
      "   },\n",
      "   \"sentence\": \"canon camera bag year recommend\"\n",
      "  },\n",
      "  {\n",
      "   \"aspect\": {\n",
      "    \"asthetics\": 0.5131470989408985\n",
      "   },\n",
      "   \"sentence\": \"take beating look great hold\"\n",
      "  },\n",
      "  {\n",
      "   \"aspect\": {\n",
      "    \"asthetics\": 0.3703455002942877,\n",
      "    \"safety\": 0.3419004271639299\n",
      "   },\n",
      "   \"sentence\": \"bag sturdy protective\"\n",
      "  },\n",
      "  {\n",
      "   \"aspect\": {\n",
      "    \"size\": 0.39124505133832754\n",
      "   },\n",
      "   \"sentence\": \"perfect space canon d room cary additional small micro lens\"\n",
      "  },\n",
      "  {\n",
      "   \"aspect\": {\n",
      "    \"size\": 0.8329886471126292\n",
      "   },\n",
      "   \"sentence\": \"small dlsr bag perfectly hold camera body large lens\"\n",
      "  },\n",
      "  {\n",
      "   \"aspect\": {\n",
      "    \"ergonomics\": 0.5470823724398397\n",
      "   },\n",
      "   \"sentence\": \"recently repurchase camera bag father\"\n",
      "  }\n",
      " ]\n",
      "}\n"
     ]
    }
   ],
   "source": [
    "import json\n",
    "with open('output.txt', 'r') as f:\n",
    "    output = json.load(f)\n",
    "print(json.dumps(output, indent = 1))"
   ]
  },
  {
   "cell_type": "markdown",
   "metadata": {},
   "source": [
    "#### E. Delete the endpoint"
   ]
  },
  {
   "cell_type": "markdown",
   "metadata": {},
   "source": [
    "Now that you have successfully performed a real-time inference, you do not need the endpoint any more. You can terminate the endpoint to avoid being charged."
   ]
  },
  {
   "cell_type": "code",
   "execution_count": 15,
   "metadata": {},
   "outputs": [],
   "source": [
    "predictor=sage.predictor.Predictor(model_name, sagemaker_session,content_type)\n",
    "predictor.delete_endpoint(delete_endpoint_config=True)"
   ]
  },
  {
   "cell_type": "markdown",
   "metadata": {},
   "source": [
    "### 3. Perform batch inference"
   ]
  },
  {
   "cell_type": "markdown",
   "metadata": {},
   "source": [
    "In this section, you will perform batch inference using multiple input payloads together. If you are not familiar with batch transform, and want to learn more, see these links:\n",
    "1. [How it works](https://docs.aws.amazon.com/sagemaker/latest/dg/ex1-batch-transform.html)\n",
    "2. [How to run a batch transform job](https://docs.aws.amazon.com/sagemaker/latest/dg/how-it-works-batch.html)"
   ]
  },
  {
   "cell_type": "code",
   "execution_count": 16,
   "metadata": {},
   "outputs": [
    {
     "name": "stdout",
     "output_type": "stream",
     "text": [
      "Transform input uploaded to s3://sagemaker-us-east-2-786796469737/camera-bag-aspect-extraction\n"
     ]
    }
   ],
   "source": [
    "#upload the batch-transform job input files to S3 and provide the location here\n",
    "transform_input_folder = \"input\"\n",
    "transform_input = sagemaker_session.upload_data(transform_input_folder, key_prefix=model_name) \n",
    "print(\"Transform input uploaded to \" + transform_input)"
   ]
  },
  {
   "cell_type": "code",
   "execution_count": null,
   "metadata": {},
   "outputs": [
    {
     "name": "stdout",
     "output_type": "stream",
     "text": [
      ".........................\u001b[34m/usr/local/lib/python3.6/dist-packages/sklearn/base.py:315: UserWarning: Trying to unpickle estimator CountVectorizer from version 0.20.2 when using version 0.24.2. This might lead to breaking code or invalid results. Use at your own risk.\n",
      "  UserWarning)\n",
      " * Serving Flask app 'serve' (lazy loading)\n",
      " * Environment: production\n",
      "   WARNING: This is a development server. Do not use it in a production deployment.\n",
      "   Use a production WSGI server instead.\n",
      " * Debug mode: off\n",
      " * Running on all addresses.\n",
      "   WARNING: This is a development server. Do not use it in a production deployment.\n",
      " * Running on http://169.254.255.131:8080/ (Press CTRL+C to quit)\u001b[0m\n",
      "\u001b[34m169.254.255.130 - - [19/Nov/2021 07:48:43] \"GET /ping HTTP/1.1\" 200 -\u001b[0m\n",
      "\u001b[34m169.254.255.130 - - [19/Nov/2021 07:48:43] \"#033[33mGET /execution-parameters HTTP/1.1#033[0m\" 404 -\u001b[0m\n",
      "\u001b[34mneed at least one array to concatenate\u001b[0m\n",
      "\u001b[34m169.254.255.130 - - [19/Nov/2021 07:48:43] \"#033[35m#033[1mPOST /invocations HTTP/1.1#033[0m\" 500 -\u001b[0m\n",
      "\u001b[34mError on request:\u001b[0m\n",
      "\u001b[34mTraceback (most recent call last):\n",
      "  File \"/usr/local/lib/python3.6/dist-packages/werkzeug/serving.py\", line 319, in run_wsgi\n",
      "    execute(self.server.app)\n",
      "  File \"/usr/local/lib/python3.6/dist-packages/werkzeug/serving.py\", line 310, in execute\n",
      "    for data in application_iter:\n",
      "  File \"/usr/local/lib/python3.6/dist-packages/werkzeug/wsgi.py\", line 462, in __next__\n",
      "    return self._next()\n",
      "  File \"/usr/local/lib/python3.6/dist-packages/werkzeug/wrappers/response.py\", line 49, in _iter_encoded\n",
      "    for item in iterable:\u001b[0m\n",
      "\u001b[34mTypeError: 'ValueError' object is not iterable\u001b[0m\n",
      "\u001b[34mneed at least one array to concatenate\u001b[0m\n",
      "\u001b[34m169.254.255.130 - - [19/Nov/2021 07:48:43] \"#033[35m#033[1mPOST /invocations HTTP/1.1#033[0m\" 500 -\u001b[0m\n",
      "\u001b[34mError on request:\u001b[0m\n",
      "\u001b[34mTraceback (most recent call last):\n",
      "  File \"/usr/local/lib/python3.6/dist-packages/werkzeug/serving.py\", line 319, in run_wsgi\n",
      "    execute(self.server.app)\n",
      "  File \"/usr/local/lib/python3.6/dist-packages/werkzeug/serving.py\", line 310, in execute\n",
      "    for data in application_iter:\n",
      "  File \"/usr/local/lib/python3.6/dist-packages/werkzeug/wsgi.py\", line 462, in __next__\n",
      "    return self._next()\n",
      "  File \"/usr/local/lib/python3.6/dist-packages/werkzeug/wrappers/response.py\", line 49, in _iter_encoded\n",
      "    for item in iterable:\u001b[0m\n",
      "\u001b[34mTypeError: 'ValueError' object is not iterable\u001b[0m\n",
      "\u001b[34mneed at least one array to concatenate\u001b[0m\n",
      "\u001b[34m169.254.255.130 - - [19/Nov/2021 07:48:43] \"#033[35m#033[1mPOST /invocations HTTP/1.1#033[0m\" 500 -\u001b[0m\n",
      "\u001b[34mError on request:\u001b[0m\n",
      "\u001b[34mTraceback (most recent call last):\n",
      "  File \"/usr/local/lib/python3.6/dist-packages/werkzeug/serving.py\", line 319, in run_wsgi\n",
      "    execute(self.server.app)\n",
      "  File \"/usr/local/lib/python3.6/dist-packages/werkzeug/serving.py\", line 310, in execute\n",
      "    for data in application_iter:\n",
      "  File \"/usr/local/lib/python3.6/dist-packages/werkzeug/wsgi.py\", line 462, in __next__\n",
      "    return self._next()\n",
      "  File \"/usr/local/lib/python3.6/dist-packages/werkzeug/wrappers/response.py\", line 49, in _iter_encoded\n",
      "    for item in iterable:\u001b[0m\n",
      "\u001b[34mTypeError: 'ValueError' object is not iterable\u001b[0m\n",
      "\u001b[34mneed at least one array to concatenate\u001b[0m\n",
      "\u001b[34m169.254.255.130 - - [19/Nov/2021 07:48:43] \"#033[35m#033[1mPOST /invocations HTTP/1.1#033[0m\" 500 -\u001b[0m\n",
      "\u001b[34mError on request:\u001b[0m\n",
      "\u001b[34mTraceback (most recent call last):\n",
      "  File \"/usr/local/lib/python3.6/dist-packages/werkzeug/serving.py\", line 319, in run_wsgi\n",
      "    execute(self.server.app)\n",
      "  File \"/usr/local/lib/python3.6/dist-packages/werkzeug/serving.py\", line 310, in execute\n",
      "    for data in application_iter:\n",
      "  File \"/usr/local/lib/python3.6/dist-packages/werkzeug/wsgi.py\", line 462, in __next__\n",
      "    return self._next()\n",
      "  File \"/usr/local/lib/python3.6/dist-packages/werkzeug/wrappers/response.py\", line 49, in _iter_encoded\n",
      "    for item in iterable:\u001b[0m\n",
      "\u001b[34mTypeError: 'ValueError' object is not iterable\u001b[0m\n",
      "\u001b[34mneed at least one array to concatenate\u001b[0m\n",
      "\u001b[34m169.254.255.130 - - [19/Nov/2021 07:48:43] \"#033[35m#033[1mPOST /invocations HTTP/1.1#033[0m\" 500 -\u001b[0m\n",
      "\u001b[34mError on request:\u001b[0m\n",
      "\u001b[34mTraceback (most recent call last):\n",
      "  File \"/usr/local/lib/python3.6/dist-packages/werkzeug/serving.py\", line 319, in run_wsgi\n",
      "    execute(self.server.app)\n",
      "  File \"/usr/local/lib/python3.6/dist-packages/werkzeug/serving.py\", line 310, in execute\n",
      "    for data in application_iter:\n",
      "  File \"/usr/local/lib/python3.6/dist-packages/werkzeug/wsgi.py\", line 462, in __next__\n",
      "    return self._next()\n",
      "  File \"/usr/local/lib/python3.6/dist-packages/werkzeug/wrappers/response.py\", line 49, in _iter_encoded\n",
      "    for item in iterable:\u001b[0m\n",
      "\u001b[34mTypeError: 'ValueError' object is not iterable\u001b[0m\n",
      "\u001b[34mneed at least one array to concatenate\u001b[0m\n",
      "\u001b[34m169.254.255.130 - - [19/Nov/2021 07:48:43] \"#033[35m#033[1mPOST /invocations HTTP/1.1#033[0m\" 500 -\u001b[0m\n",
      "\u001b[34mError on request:\u001b[0m\n",
      "\u001b[34mTraceback (most recent call last):\n",
      "  File \"/usr/local/lib/python3.6/dist-packages/werkzeug/serving.py\", line 319, in run_wsgi\n",
      "    execute(self.server.app)\n",
      "  File \"/usr/local/lib/python3.6/dist-packages/werkzeug/serving.py\", line 310, in execute\n",
      "    for data in application_iter:\n",
      "  File \"/usr/local/lib/python3.6/dist-packages/werkzeug/wsgi.py\", line 462, in __next__\n",
      "    return self._next()\n",
      "  File \"/usr/local/lib/python3.6/dist-packages/werkzeug/wrappers/response.py\", line 49, in _iter_encoded\n",
      "    for item in iterable:\u001b[0m\n",
      "\u001b[34mTypeError: 'ValueError' object is not iterable\u001b[0m\n",
      "\u001b[34mneed at least one array to concatenate\u001b[0m\n",
      "\u001b[34m169.254.255.130 - - [19/Nov/2021 07:48:43] \"#033[35m#033[1mPOST /invocations HTTP/1.1#033[0m\" 500 -\u001b[0m\n",
      "\u001b[34mError on request:\u001b[0m\n",
      "\u001b[34mTraceback (most recent call last):\n",
      "  File \"/usr/local/lib/python3.6/dist-packages/werkzeug/serving.py\", line 319, in run_wsgi\n",
      "    execute(self.server.app)\n",
      "  File \"/usr/local/lib/python3.6/dist-packages/werkzeug/serving.py\", line 310, in execute\n",
      "    for data in application_iter:\n",
      "  File \"/usr/local/lib/python3.6/dist-packages/werkzeug/wsgi.py\", line 462, in __next__\n",
      "    return self._next()\n",
      "  File \"/usr/local/lib/python3.6/dist-packages/werkzeug/wrappers/response.py\", line 49, in _iter_encoded\n",
      "    for item in iterable:\u001b[0m\n",
      "\u001b[34mTypeError: 'ValueError' object is not iterable\u001b[0m\n",
      "\u001b[34mneed at least one array to concatenate\u001b[0m\n",
      "\u001b[34m169.254.255.130 - - [19/Nov/2021 07:48:43] \"#033[35m#033[1mPOST /invocations HTTP/1.1#033[0m\" 500 -\u001b[0m\n",
      "\u001b[34mError on request:\u001b[0m\n",
      "\u001b[34mTraceback (most recent call last):\n",
      "  File \"/usr/local/lib/python3.6/dist-packages/werkzeug/serving.py\", line 319, in run_wsgi\n",
      "    execute(self.server.app)\n",
      "  File \"/usr/local/lib/python3.6/dist-packages/werkzeug/serving.py\", line 310, in execute\n",
      "    for data in application_iter:\n",
      "  File \"/usr/local/lib/python3.6/dist-packages/werkzeug/wsgi.py\", line 462, in __next__\n",
      "    return self._next()\n",
      "  File \"/usr/local/lib/python3.6/dist-packages/werkzeug/wrappers/response.py\", line 49, in _iter_encoded\n",
      "    for item in iterable:\u001b[0m\n",
      "\u001b[34mTypeError: 'ValueError' object is not iterable\u001b[0m\n",
      "\u001b[34m169.254.255.130 - - [19/Nov/2021 07:48:45] \"POST /invocations HTTP/1.1\" 200 -\u001b[0m\n",
      "\u001b[34m169.254.255.130 - - [19/Nov/2021 07:48:45] \"POST /invocations HTTP/1.1\" 200 -\u001b[0m\n",
      "\u001b[34m169.254.255.130 - - [19/Nov/2021 07:48:45] \"POST /invocations HTTP/1.1\" 200 -\u001b[0m\n",
      "\u001b[34m169.254.255.130 - - [19/Nov/2021 07:48:46] \"POST /invocations HTTP/1.1\" 200 -\u001b[0m\n",
      "\u001b[34m169.254.255.130 - - [19/Nov/2021 07:48:46] \"POST /invocations HTTP/1.1\" 200 -\u001b[0m\n",
      "\u001b[34m169.254.255.130 - - [19/Nov/2021 07:48:46] \"POST /invocations HTTP/1.1\" 200 -\u001b[0m\n",
      "\u001b[34m'utf-8' codec can't decode byte 0x8b in position 1: invalid start byte\u001b[0m\n",
      "\u001b[34m169.254.255.130 - - [19/Nov/2021 07:48:46] \"#033[35m#033[1mPOST /invocations HTTP/1.1#033[0m\" 500 -\u001b[0m\n",
      "\u001b[34mError on request:\u001b[0m\n",
      "\u001b[34mTraceback (most recent call last):\n",
      "  File \"/usr/local/lib/python3.6/dist-packages/werkzeug/serving.py\", line 319, in run_wsgi\n",
      "    execute(self.server.app)\n",
      "  File \"/usr/local/lib/python3.6/dist-packages/werkzeug/serving.py\", line 310, in execute\n",
      "    for data in application_iter:\n",
      "  File \"/usr/local/lib/python3.6/dist-packages/werkzeug/wsgi.py\", line 462, in __next__\n",
      "    return self._next()\n",
      "  File \"/usr/local/lib/python3.6/dist-packages/werkzeug/wrappers/response.py\", line 49, in _iter_encoded\n",
      "    for item in iterable:\u001b[0m\n",
      "\u001b[34mTypeError: 'UnicodeDecodeError' object is not iterable\u001b[0m\n",
      "\u001b[34m'utf-8' codec can't decode byte 0x8b in position 1: invalid start byte\u001b[0m\n",
      "\u001b[34m169.254.255.130 - - [19/Nov/2021 07:48:46] \"#033[35m#033[1mPOST /invocations HTTP/1.1#033[0m\" 500 -\u001b[0m\n",
      "\u001b[34mError on request:\u001b[0m\n",
      "\u001b[34mTraceback (most recent call last):\n",
      "  File \"/usr/local/lib/python3.6/dist-packages/werkzeug/serving.py\", line 319, in run_wsgi\n",
      "    execute(self.server.app)\n",
      "  File \"/usr/local/lib/python3.6/dist-packages/werkzeug/serving.py\", line 310, in execute\n",
      "    for data in application_iter:\n",
      "  File \"/usr/local/lib/python3.6/dist-packages/werkzeug/wsgi.py\", line 462, in __next__\n",
      "    return self._next()\n",
      "  File \"/usr/local/lib/python3.6/dist-packages/werkzeug/wrappers/response.py\", line 49, in _iter_encoded\n",
      "    for item in iterable:\u001b[0m\n",
      "\u001b[34mTypeError: 'UnicodeDecodeError' object is not iterable\u001b[0m\n",
      "\u001b[34m'utf-8' codec can't decode byte 0x8b in position 1: invalid start byte\u001b[0m\n",
      "\u001b[34m169.254.255.130 - - [19/Nov/2021 07:48:46] \"#033[35m#033[1mPOST /invocations HTTP/1.1#033[0m\" 500 -\u001b[0m\n",
      "\u001b[34mError on request:\u001b[0m\n",
      "\u001b[34mTraceback (most recent call last):\n",
      "  File \"/usr/local/lib/python3.6/dist-packages/werkzeug/serving.py\", line 319, in run_wsgi\n",
      "    execute(self.server.app)\n",
      "  File \"/usr/local/lib/python3.6/dist-packages/werkzeug/serving.py\", line 310, in execute\n",
      "    for data in application_iter:\n",
      "  File \"/usr/local/lib/python3.6/dist-packages/werkzeug/wsgi.py\", line 462, in __next__\n",
      "    return self._next()\n",
      "  File \"/usr/local/lib/python3.6/dist-packages/werkzeug/wrappers/response.py\", line 49, in _iter_encoded\n",
      "    for item in iterable:\u001b[0m\n",
      "\u001b[34mTypeError: 'UnicodeDecodeError' object is not iterable\u001b[0m\n",
      "\u001b[34m'utf-8' codec can't decode byte 0x8b in position 1: invalid start byte\u001b[0m\n",
      "\u001b[34m169.254.255.130 - - [19/Nov/2021 07:48:46] \"#033[35m#033[1mPOST /invocations HTTP/1.1#033[0m\" 500 -\u001b[0m\n",
      "\u001b[34mError on request:\u001b[0m\n",
      "\u001b[34mTraceback (most recent call last):\n",
      "  File \"/usr/local/lib/python3.6/dist-packages/werkzeug/serving.py\", line 319, in run_wsgi\n",
      "    execute(self.server.app)\n",
      "  File \"/usr/local/lib/python3.6/dist-packages/werkzeug/serving.py\", line 310, in execute\n",
      "    for data in application_iter:\n",
      "  File \"/usr/local/lib/python3.6/dist-packages/werkzeug/wsgi.py\", line 462, in __next__\n",
      "    return self._next()\n",
      "  File \"/usr/local/lib/python3.6/dist-packages/werkzeug/wrappers/response.py\", line 49, in _iter_encoded\n",
      "    for item in iterable:\u001b[0m\n",
      "\u001b[34mTypeError: 'UnicodeDecodeError' object is not iterable\u001b[0m\n",
      "\u001b[34m169.254.255.130 - - [19/Nov/2021 07:48:46] \"POST /invocations HTTP/1.1\" 200 -\u001b[0m\n",
      "\u001b[32m2021-11-19T07:48:43.175:[sagemaker logs]: MaxConcurrentTransforms=1, MaxPayloadInMB=6, BatchStrategy=MULTI_RECORD\u001b[0m\n",
      "\u001b[32m2021-11-19T07:48:43.332:[sagemaker logs]: sagemaker-us-east-2-786796469737/camera-bag-aspect-extraction/.autofsck: Bad HTTP status received from algorithm: 500\u001b[0m\n",
      "\u001b[32m2021-11-19T07:48:43.333:[sagemaker logs]: sagemaker-us-east-2-786796469737/camera-bag-aspect-extraction/.autofsck: \u001b[0m\n",
      "\u001b[32m2021-11-19T07:48:43.333:[sagemaker logs]: sagemaker-us-east-2-786796469737/camera-bag-aspect-extraction/.autofsck: Message:\u001b[0m\n",
      "\u001b[32m2021-11-19T07:48:43.340:[sagemaker logs]: sagemaker-us-east-2-786796469737/camera-bag-aspect-extraction/.autofsck: <!DOCTYPE HTML PUBLIC \"-//W3C//DTD HTML 3.2 Final//EN\">\u001b[0m\n",
      "\u001b[32m2021-11-19T07:48:43.340:[sagemaker logs]: sagemaker-us-east-2-786796469737/camera-bag-aspect-extraction/.autofsck: <title>500 Internal Server Error</title>\u001b[0m\n",
      "\u001b[32m2021-11-19T07:48:43.340:[sagemaker logs]: sagemaker-us-east-2-786796469737/camera-bag-aspect-extraction/.autofsck: <h1>Internal Server Error</h1>\u001b[0m\n",
      "\u001b[32m2021-11-19T07:48:43.340:[sagemaker logs]: sagemaker-us-east-2-786796469737/camera-bag-aspect-extraction/.autofsck: <p>The server encountered an internal error and was unable to complete your request. Either the server is overloaded or there is an error in the application.</p>\u001b[0m\n",
      "\u001b[32m2021-11-19T07:48:43.423:[sagemaker logs]: sagemaker-us-east-2-786796469737/camera-bag-aspect-extraction/.autorelabel: Bad HTTP status received from algorithm: 500\u001b[0m\n",
      "\u001b[32m2021-11-19T07:48:43.423:[sagemaker logs]: sagemaker-us-east-2-786796469737/camera-bag-aspect-extraction/.autorelabel: \u001b[0m\n",
      "\u001b[32m2021-11-19T07:48:43.423:[sagemaker logs]: sagemaker-us-east-2-786796469737/camera-bag-aspect-extraction/.autorelabel: Message:\u001b[0m\n",
      "\u001b[32m2021-11-19T07:48:43.423:[sagemaker logs]: sagemaker-us-east-2-786796469737/camera-bag-aspect-extraction/.autorelabel: <!DOCTYPE HTML PUBLIC \"-//W3C//DTD HTML 3.2 Final//EN\">\u001b[0m\n",
      "\u001b[32m2021-11-19T07:48:43.423:[sagemaker logs]: sagemaker-us-east-2-786796469737/camera-bag-aspect-extraction/.autorelabel: <title>500 Internal Server Error</title>\u001b[0m\n",
      "\u001b[32m2021-11-19T07:48:43.423:[sagemaker logs]: sagemaker-us-east-2-786796469737/camera-bag-aspect-extraction/.autorelabel: <h1>Internal Server Error</h1>\u001b[0m\n",
      "\u001b[32m2021-11-19T07:48:43.423:[sagemaker logs]: sagemaker-us-east-2-786796469737/camera-bag-aspect-extraction/.autorelabel: <p>The server encountered an internal error and was unable to complete your request. Either the server is overloaded or there is an error in the application.</p>\u001b[0m\n",
      "\u001b[32m2021-11-19T07:48:46.331:[sagemaker logs]: sagemaker-us-east-2-786796469737/camera-bag-aspect-extraction/home/ec2-user/.cache/yarn/v4/npm-@aws-amplify-predictions-1.2.3-6a39871c3761fcd20772dd0f6273da7739d91a35/node_modules/@aws-amplify/predictions/.yarn-tarball.tgz: Bad HTTP status received from algorithm: 500\u001b[0m\n",
      "\u001b[32m2021-11-19T07:48:46.331:[sagemaker logs]: sagemaker-us-east-2-786796469737/camera-bag-aspect-extraction/home/ec2-user/.cache/yarn/v4/npm-@aws-amplify-predictions-1.2.3-6a39871c3761fcd20772dd0f6273da7739d91a35/node_modules/@aws-amplify/predictions/.yarn-tarball.tgz: \u001b[0m\n",
      "\u001b[32m2021-11-19T07:48:46.331:[sagemaker logs]: sagemaker-us-east-2-786796469737/camera-bag-aspect-extraction/home/ec2-user/.cache/yarn/v4/npm-@aws-amplify-predictions-1.2.3-6a39871c3761fcd20772dd0f6273da7739d91a35/node_modules/@aws-amplify/predictions/.yarn-tarball.tgz: Message:\u001b[0m\n",
      "\u001b[32m2021-11-19T07:48:46.331:[sagemaker logs]: sagemaker-us-east-2-786796469737/camera-bag-aspect-extraction/home/ec2-user/.cache/yarn/v4/npm-@aws-amplify-predictions-1.2.3-6a39871c3761fcd20772dd0f6273da7739d91a35/node_modules/@aws-amplify/predictions/.yarn-tarball.tgz: <!DOCTYPE HTML PUBLIC \"-//W3C//DTD HTML 3.2 Final//EN\">\u001b[0m\n",
      "\u001b[32m2021-11-19T07:48:46.331:[sagemaker logs]: sagemaker-us-east-2-786796469737/camera-bag-aspect-extraction/home/ec2-user/.cache/yarn/v4/npm-@aws-amplify-predictions-1.2.3-6a39871c3761fcd20772dd0f6273da7739d91a35/node_modules/@aws-amplify/predictions/.yarn-tarball.tgz: <title>500 Internal Server Error</title>\u001b[0m\n",
      "\u001b[32m2021-11-19T07:48:46.331:[sagemaker logs]: sagemaker-us-east-2-786796469737/camera-bag-aspect-extraction/home/ec2-user/.cache/yarn/v4/npm-@aws-amplify-predictions-1.2.3-6a39871c3761fcd20772dd0f6273da7739d91a35/node_modules/@aws-amplify/predictions/.yarn-tarball.tgz: <h1>Internal Server Error</h1>\u001b[0m\n",
      "\u001b[32m2021-11-19T07:48:46.331:[sagemaker logs]: sagemaker-us-east-2-786796469737/camera-bag-aspect-extraction/home/ec2-user/.cache/yarn/v4/npm-@aws-amplify-predictions-1.2.3-6a39871c3761fcd20772dd0f6273da7739d91a35/node_modules/@aws-amplify/predictions/.yarn-tarball.tgz: <p>The server encountered an internal error and was unable to complete your request. Either the server is overloaded or there is an error in the application.</p>\u001b[0m\n",
      "\u001b[34m169.254.255.130 - - [19/Nov/2021 07:55:03] \"POST /invocations HTTP/1.1\" 200 -\u001b[0m\n",
      "\u001b[34m169.254.255.130 - - [19/Nov/2021 07:55:03] \"POST /invocations HTTP/1.1\" 200 -\u001b[0m\n",
      "\u001b[34m169.254.255.130 - - [19/Nov/2021 07:55:03] \"POST /invocations HTTP/1.1\" 200 -\u001b[0m\n",
      "\u001b[35m169.254.255.130 - - [19/Nov/2021 07:55:03] \"POST /invocations HTTP/1.1\" 200 -\u001b[0m\n",
      "\u001b[35m169.254.255.130 - - [19/Nov/2021 07:55:03] \"POST /invocations HTTP/1.1\" 200 -\u001b[0m\n",
      "\u001b[35m169.254.255.130 - - [19/Nov/2021 07:55:03] \"POST /invocations HTTP/1.1\" 200 -\u001b[0m\n"
     ]
    }
   ],
   "source": [
    "\n",
    "#Run the batch-transform job\n",
    "transformer = model.transformer(1, batch_transform_inference_instance_type)\n",
    "transformer.transform(transform_input, content_type=content_type)\n",
    "transformer.wait()"
   ]
  },
  {
   "cell_type": "code",
   "execution_count": null,
   "metadata": {},
   "outputs": [],
   "source": [
    "import os\n",
    "s3_conn = boto3.client(\"s3\")\n",
    "with open('output2.txt', 'wb') as f:\n",
    "    s3_conn.download_fileobj(bucket, os.path.basename(transformer.output_path)+'/sample.txt.out', f)\n",
    "    print(\"Output file loaded from bucket\")"
   ]
  },
  {
   "cell_type": "code",
   "execution_count": null,
   "metadata": {},
   "outputs": [],
   "source": [
    "with open('output2.txt', 'r') as f:\n",
    "    output = json.load(f)\n",
    "print(json.dumps(output, indent = 1))"
   ]
  },
  {
   "cell_type": "markdown",
   "metadata": {},
   "source": [
    "### 4. Clean-up"
   ]
  },
  {
   "cell_type": "markdown",
   "metadata": {},
   "source": [
    "#### A. Delete the model"
   ]
  },
  {
   "cell_type": "code",
   "execution_count": null,
   "metadata": {},
   "outputs": [],
   "source": [
    "model.delete_model()"
   ]
  },
  {
   "cell_type": "markdown",
   "metadata": {},
   "source": [
    "#### B. Unsubscribe to the listing (optional)"
   ]
  },
  {
   "cell_type": "markdown",
   "metadata": {},
   "source": [
    "If you would like to unsubscribe to the model package, follow these steps. Before you cancel the subscription, ensure that you do not have any [deployable model](https://console.aws.amazon.com/sagemaker/home#/models) created from the model package or using the algorithm. Note - You can find this information by looking at the container name associated with the model. \n",
    "\n",
    "**Steps to unsubscribe to product from AWS Marketplace**:\n",
    "1. Navigate to __Machine Learning__ tab on [__Your Software subscriptions page__](https://aws.amazon.com/marketplace/ai/library?productType=ml&ref_=mlmp_gitdemo_indust)\n",
    "2. Locate the listing that you want to cancel the subscription for, and then choose __Cancel Subscription__  to cancel the subscription.\n",
    "\n"
   ]
  }
 ],
 "metadata": {
  "kernelspec": {
   "display_name": "conda_python3",
   "language": "python",
   "name": "conda_python3"
  },
  "language_info": {
   "codemirror_mode": {
    "name": "ipython",
    "version": 3
   },
   "file_extension": ".py",
   "mimetype": "text/x-python",
   "name": "python",
   "nbconvert_exporter": "python",
   "pygments_lexer": "ipython3",
   "version": "3.6.13"
  }
 },
 "nbformat": 4,
 "nbformat_minor": 2
}
